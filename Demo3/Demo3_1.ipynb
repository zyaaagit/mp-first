{
 "cells": [
  {
   "cell_type": "code",
   "execution_count": 1,
   "metadata": {},
   "outputs": [],
   "source": [
    "import numpy as np\n",
    "import pandas as pd\n",
    "import scipy\n",
    "import seaborn as sns\n",
    "import matplotlib.pyplot as plt\n",
    "import matplotlib as mpl\n",
    "from random import choices\n",
    "from turtle import speed\n",
    "from sklearn.ensemble import RandomForestRegressor\n",
    "from sklearn.preprocessing import StandardScaler\n",
    "from sklearn.svm import SVR\n",
    "from sklearn import preprocessing"
   ]
  },
  {
   "cell_type": "code",
   "execution_count": 2,
   "metadata": {},
   "outputs": [],
   "source": [
    "df3_1 = pd.read_excel('data3_1.xlsx', header=None)\n",
    "df3_speed = pd.read_excel('speed.xlsx', header=None)\n",
    "df3_speed1 = pd.read_excel('speed_1.xlsx', header=None)\n",
    "df3_positon = pd.read_excel('position.xlsx', header=None)"
   ]
  },
  {
   "cell_type": "code",
   "execution_count": 3,
   "metadata": {},
   "outputs": [],
   "source": [
    "df3_1 = df3_1.drop(df3_1.index[0])"
   ]
  },
  {
   "cell_type": "code",
   "execution_count": 4,
   "metadata": {},
   "outputs": [],
   "source": [
    "df3_1 = df3_1[df3_1[7]<5]"
   ]
  },
  {
   "cell_type": "code",
   "execution_count": 5,
   "metadata": {},
   "outputs": [],
   "source": [
    "x = df3_1.iloc[:,1:]\n",
    "y = df3_1.iloc[:,0]"
   ]
  },
  {
   "cell_type": "code",
   "execution_count": 6,
   "metadata": {},
   "outputs": [],
   "source": [
    "x = preprocessing.scale(x)"
   ]
  },
  {
   "cell_type": "code",
   "execution_count": 7,
   "metadata": {},
   "outputs": [],
   "source": [
    "linear_svr = SVR(kernel='linear')\n",
    "linear_test = linear_svr.fit(x,y)"
   ]
  },
  {
   "cell_type": "code",
   "execution_count": 8,
   "metadata": {},
   "outputs": [],
   "source": [
    "X_1 = df3_1.iloc[:,1:8]\n",
    "X_2 = df3_1.iloc[:,8:]\n",
    "X_2 = X_2.apply(lambda x:x.astype(float))\n",
    "X_2 = X_2.values"
   ]
  },
  {
   "cell_type": "markdown",
   "metadata": {},
   "source": [
    "1、计算适应度"
   ]
  },
  {
   "cell_type": "code",
   "execution_count": 9,
   "metadata": {},
   "outputs": [],
   "source": [
    "mpl.rcParams['font.sans-serif'] = ['SimHei']  # 指定默认字体\n",
    "mpl.rcParams['axes.unicode_minus'] = False  # 解决保存图像是负号'-'显示为方块的问题\n",
    "\n",
    "def fitness_func(X):\n",
    "    \"\"\"计算粒子的的适应度值，也就是目标函数值，X 的维度是 size * 2 \"\"\"\n",
    "    X = np.column_stack((X_1, X))\n",
    "    X = preprocessing.scale(X)\n",
    "    return linear_test.predict(X)"
   ]
  },
  {
   "cell_type": "markdown",
   "metadata": {},
   "source": [
    "2、更新速度"
   ]
  },
  {
   "cell_type": "code",
   "execution_count": 10,
   "metadata": {},
   "outputs": [],
   "source": [
    "\n",
    "def velocity_update(V, X, pbest, gbest, c1, c2, w, max_val):\n",
    "    \"\"\"\n",
    "    根据速度更新公式更新每个粒子的速度\n",
    "    :param V: 粒子当前的速度矩阵，20*2 的矩阵\n",
    "    :param X: 粒子当前的位置矩阵，20*2 的矩阵\n",
    "    :param pbest: 每个粒子历史最优位置，20*2 的矩阵\n",
    "    :param gbest: 种群历史最优位置，1*2 的矩阵\n",
    "    \"\"\"\n",
    "    size = X.shape[0]\n",
    "    r1 = np.random.random((size, 1))\n",
    "    r2 = np.random.random((size, 1))\n",
    "    V = w*V+c1*r1*(pbest-X)+c2*r2*(gbest-X)\n",
    "    # 防止越界处理\n",
    "    for i in range(17):\n",
    "        max = max_val[i]\n",
    "        min = -max\n",
    "        for j in range(266):\n",
    "            if(V[j,i] > max):\n",
    "                V[j,i] = max\n",
    "            elif(V[j,i] < min):\n",
    "                V[j,i] = min\n",
    "    return V"
   ]
  },
  {
   "cell_type": "markdown",
   "metadata": {},
   "source": [
    "3、更新粒子位置"
   ]
  },
  {
   "cell_type": "code",
   "execution_count": 11,
   "metadata": {},
   "outputs": [],
   "source": [
    "def position_update(X, V):\n",
    "    \"\"\"\n",
    "    根据公式更新粒子的位置\n",
    "    :param X: 粒子当前的位置矩阵，维度是 20*2\n",
    "    :param V: 粒子当前的速度举着，维度是 20*2\n",
    "    \"\"\"\n",
    "    M = X+V\n",
    "    for i in range(17):\n",
    "        lower = df3_positon.values[i,0]\n",
    "        upper = df3_positon.values[i,1]\n",
    "        for j in range(266):\n",
    "            if(M[j,i] > upper):\n",
    "                M[j,i] = upper\n",
    "            elif(M[j,i] < lower):\n",
    "                M[j,i] = lower\n",
    "    return M"
   ]
  },
  {
   "cell_type": "markdown",
   "metadata": {},
   "source": [
    "4、计算损失度"
   ]
  },
  {
   "cell_type": "code",
   "execution_count": 12,
   "metadata": {},
   "outputs": [],
   "source": [
    "#def loss():"
   ]
  },
  {
   "cell_type": "markdown",
   "metadata": {},
   "source": [
    "4、main函数"
   ]
  },
  {
   "cell_type": "code",
   "execution_count": 13,
   "metadata": {},
   "outputs": [
    {
     "name": "stdout",
     "output_type": "stream",
     "text": [
      "最优值是：0.17269\n",
      "最优解是：x=3811017.62500,y=0.25000\n"
     ]
    },
    {
     "data": {
      "image/png": "[encoded data removed]",
      "text/plain": [
       "<Figure size 432x288 with 1 Axes>"
      ]
     },
     "metadata": {},
     "output_type": "display_data"
    }
   ],
   "source": [
    "w = 1\n",
    "c1 = 2\n",
    "c2 = 2\n",
    "r1 = None\n",
    "r2 = None\n",
    "dim = 17\n",
    "size = 266\n",
    "iter_num = 100                       #最大迭代次数\n",
    "max_val = df3_speed.values              #速度范围\n",
    "fitness_val_list = []\n",
    "# 初始化种群各个粒子的位置\n",
    "X = X_2\n",
    "# 初始化各个粒子的速度\n",
    "V = df3_1.iloc[:,8:]\n",
    "for i in range(dim):\n",
    "    speed1 = df3_speed.iat[i,0]\n",
    "    speed2 = -speed1\n",
    "    for j in range(size):\n",
    "        V.iat[j,i] = choices([speed2,speed1], [0.5,0.5])[0]\n",
    "V = V.values\n",
    "# print(X)\n",
    "p_fitness = np.array(y)\n",
    "g_fitness = p_fitness.min()\n",
    "fitness_val_list.append(g_fitness)\n",
    "\n",
    "# 初始化的个体最优位置和种群最优位置\n",
    "pbest = X\n",
    "gbest = X_2[129,]\n",
    "# 迭代计算\n",
    "for i in range(1, iter_num):\n",
    "    V = velocity_update(V, X, pbest, gbest, c1, c2, w, max_val)\n",
    "    X = position_update(X, V)\n",
    "    p_fitness2 = fitness_func(X)\n",
    "    g_fitness2 = p_fitness2.min()\n",
    "\n",
    "    # 更新每个粒子的历史最优位置\n",
    "    for j in range(size):\n",
    "        if p_fitness[j] > p_fitness2[j]:\n",
    "            pbest[j] = X[j]\n",
    "            p_fitness[j] = p_fitness2[j]\n",
    "        # 更新群体的最优位置\n",
    "        if g_fitness > g_fitness2:\n",
    "            gbest = X[p_fitness2.argmin()]\n",
    "            g_fitness = g_fitness2\n",
    "        # 记录最优迭代记录\n",
    "        fitness_val_list.append(g_fitness)\n",
    "        i += 1\n",
    "\n",
    "# 输出迭代结果\n",
    "print(\"最优值是：%.5f\" % fitness_val_list[-1])\n",
    "print(\"最优解是：x=%.5f,y=%.5f\" % (gbest[0], gbest[1]))\n",
    "\n",
    "# 绘图\n",
    "plt.plot(fitness_val_list, color='r')\n",
    "plt.title('迭代过程')\n",
    "plt.show()\n"
   ]
  },
  {
   "cell_type": "code",
   "execution_count": 14,
   "metadata": {},
   "outputs": [],
   "source": [
    "s = pd.DataFrame(p_fitness)\n",
    "s.to_excel(\"对比1_4.xlsx\",  encoding= 'UTF-8')"
   ]
  }
 ],
 "metadata": {
  "kernelspec": {
   "display_name": "Python 3.9.7 ('base')",
   "language": "python",
   "name": "python3"
  },
  "language_info": {
   "codemirror_mode": {
    "name": "ipython",
    "version": 3
   },
   "file_extension": ".py",
   "mimetype": "text/x-python",
   "name": "python",
   "nbconvert_exporter": "python",
   "pygments_lexer": "ipython3",
   "version": "3.9.7"
  },
  "orig_nbformat": 4,
  "vscode": {
   "interpreter": {
    "hash": "ad2bdc8ecc057115af97d19610ffacc2b4e99fae6737bb82f5d7fb13d2f2c186"
   }
  }
 },
 "nbformat": 4,
 "nbformat_minor": 2
}
